{
 "cells": [
  {
   "cell_type": "code",
   "execution_count": null,
   "metadata": {},
   "outputs": [],
   "source": [
    "%matplotlib inline\n",
    "import pandas as pd\n",
    "import numpy as np\n",
    "from scipy import stats\n",
    "import seaborn as sns\n",
    "import glob\n",
    "from matplotlib.ticker import PercentFormatter\n",
    "import matplotlib.pyplot as plt\n",
    "import os            \n",
    "from IPython.core.interactiveshell import InteractiveShell\n",
    "InteractiveShell.ast_node_interactivity = \"all\""
   ]
  },
  {
   "cell_type": "code",
   "execution_count": null,
   "metadata": {},
   "outputs": [],
   "source": [
    "#change DIRECTORY TO downloads where final outputs ARE\n",
    "\n",
    "os.chdir(\"/Users/Philip/Downloads/Inside Airbnb Raw Data/For Python\")   "
   ]
  },
  {
   "cell_type": "code",
   "execution_count": null,
   "metadata": {},
   "outputs": [],
   "source": [
    "cities = [\"cambridge\", \"boston\"]\n",
    "df_reviews= []\n",
    "df_reviews=pd.DataFrame(df_reviews)\n",
    "months = [\"jan\",\"feb\",\"mar\",\"april\",\"may\",\"june\",\"july\",\"august\",\"sept\",\"oct\",\"nov\",\"dec\"]\n",
    "years = [\"2018\",\"2019\",\"2020\"]"
   ]
  },
  {
   "cell_type": "code",
   "execution_count": null,
   "metadata": {},
   "outputs": [],
   "source": []
  },
  {
   "cell_type": "code",
   "execution_count": null,
   "metadata": {},
   "outputs": [],
   "source": [
    "# imported the requests library\n",
    "import requests\n",
    "file = \"http://data.insideairbnb.com/united-states/ma/cambridge/2021-02-25/data/reviews.csv.gz\"\n",
    "  \n",
    "# URL of the image to be downloaded is defined as file\n",
    "r = requests.get(file) # create HTTP response object\n",
    "  \n",
    "# send a HTTP request to the server and save\n",
    "# the HTTP response in a response object called r\n",
    "with open(\"cambridge reviews.csv.gz\",'wb') as f:\n",
    "  \n",
    "    # write the contents of the response (r.content)\n",
    "    # to a new file in binary mode.\n",
    "    f.write(r.content)\n",
    "\n",
    "#cities = [\"Cambridge\", \"Boston\"]\n"
   ]
  },
  {
   "cell_type": "code",
   "execution_count": null,
   "metadata": {},
   "outputs": [],
   "source": []
  },
  {
   "cell_type": "code",
   "execution_count": null,
   "metadata": {},
   "outputs": [],
   "source": [
    "#for i in cities:\n",
    " #       df = pd.read_csv(str(i)+\" reviews.csv\")   \n",
    " #       df['City']=i\n",
    " #       df_reviews=pd.concat([df_reviews,df])\n",
    "\n",
    "#df_reviews\n",
    "#df_reviews['City']\n",
    "#del df_reviews\n",
    "#del df_review_final\n",
    "df = pd.read_csv(\"reviews_nov_2020.csv\")  "
   ]
  },
  {
   "cell_type": "code",
   "execution_count": null,
   "metadata": {},
   "outputs": [],
   "source": [
    "other_months = [\"sept\", \"oct\", \"nov\",\"dec\"]\n",
    "for i in months:\n",
    "        df = pd.read_csv(\"reviews_\"+str(i)+\"_2020.csv\")   \n",
    "        df['Month']=i\n",
    "        df['Year']=\"2020\"\n",
    "        df_reviews=pd.concat([df_reviews,df])\n",
    "        del df\n",
    "        df = pd.read_csv(\"reviews_2019_\"+str(i)+\".csv\")   \n",
    "        df['Month']=i\n",
    "        df['Year']= \"2019\"\n",
    "        df_reviews=pd.concat([df_reviews,df])\n",
    "        del df\n",
    "    \n",
    "for k in other_months:\n",
    "        df = pd.read_csv(\"reviews_2018_\"+str(k)+\".csv\")   \n",
    "        df['Month']=k\n",
    "        df['Year']= \"2018\"\n",
    "        df_reviews=pd.concat([df_reviews,df])  \n",
    "        del df"
   ]
  },
  {
   "cell_type": "code",
   "execution_count": null,
   "metadata": {},
   "outputs": [],
   "source": [
    "df = df_reviews\n",
    "df['Year'] = pd.DatetimeIndex(df['date']).year\n",
    "# df['Month']=pd.DatetimeIndex(df['date']).strftime(\"%B\")\n",
    "df['Month'] = pd.DatetimeIndex(df['date']).month"
   ]
  },
  {
   "cell_type": "code",
   "execution_count": 168,
   "metadata": {},
   "outputs": [],
   "source": [
    "df_final = df_reviews[(df_reviews[\"date\"] >=\"2018-09-01\")& (df_reviews[\"date\"] <\"2020-09-01\") ]"
   ]
  },
  {
   "cell_type": "code",
   "execution_count": 171,
   "metadata": {},
   "outputs": [
    {
     "name": "stderr",
     "output_type": "stream",
     "text": [
      "<ipython-input-171-ac25471f6726>:1: SettingWithCopyWarning: \n",
      "A value is trying to be set on a copy of a slice from a DataFrame.\n",
      "Try using .loc[row_indexer,col_indexer] = value instead\n",
      "\n",
      "See the caveats in the documentation: https://pandas.pydata.org/pandas-docs/stable/user_guide/indexing.html#returning-a-view-versus-a-copy\n",
      "  df_final['count'] = (df_final.groupby([\"Year\", \"Month\"])['Year'].transform('count'))\n"
     ]
    }
   ],
   "source": [
    "df_final['count'] = (df_final.groupby([\"Year\", \"Month\"])['Year'].transform('count'))"
   ]
  },
  {
   "cell_type": "code",
   "execution_count": 172,
   "metadata": {},
   "outputs": [
    {
     "data": {
      "text/html": [
       "<div>\n",
       "<style scoped>\n",
       "    .dataframe tbody tr th:only-of-type {\n",
       "        vertical-align: middle;\n",
       "    }\n",
       "\n",
       "    .dataframe tbody tr th {\n",
       "        vertical-align: top;\n",
       "    }\n",
       "\n",
       "    .dataframe thead th {\n",
       "        text-align: right;\n",
       "    }\n",
       "</style>\n",
       "<table border=\"1\" class=\"dataframe\">\n",
       "  <thead>\n",
       "    <tr style=\"text-align: right;\">\n",
       "      <th></th>\n",
       "      <th>listing_id</th>\n",
       "      <th>id</th>\n",
       "      <th>date</th>\n",
       "      <th>reviewer_id</th>\n",
       "      <th>reviewer_name</th>\n",
       "      <th>comments</th>\n",
       "      <th>Month</th>\n",
       "      <th>Year</th>\n",
       "      <th>count</th>\n",
       "    </tr>\n",
       "  </thead>\n",
       "  <tbody>\n",
       "    <tr>\n",
       "      <th>14</th>\n",
       "      <td>3781</td>\n",
       "      <td>415389126</td>\n",
       "      <td>2019-02-22</td>\n",
       "      <td>83031353</td>\n",
       "      <td>Norman</td>\n",
       "      <td>My partner and I stayed at Frank's apartment f...</td>\n",
       "      <td>2</td>\n",
       "      <td>2019</td>\n",
       "      <td>113551</td>\n",
       "    </tr>\n",
       "    <tr>\n",
       "      <th>15</th>\n",
       "      <td>3781</td>\n",
       "      <td>579765013</td>\n",
       "      <td>2019-12-21</td>\n",
       "      <td>3918963</td>\n",
       "      <td>Antoine</td>\n",
       "      <td>I liked very much this apartment rented by Fra...</td>\n",
       "      <td>12</td>\n",
       "      <td>2019</td>\n",
       "      <td>64741</td>\n",
       "    </tr>\n",
       "    <tr>\n",
       "      <th>34</th>\n",
       "      <td>8789</td>\n",
       "      <td>322252190</td>\n",
       "      <td>2018-09-12</td>\n",
       "      <td>50244767</td>\n",
       "      <td>Joseph</td>\n",
       "      <td>This is a beautiful place in an unbelievable l...</td>\n",
       "      <td>9</td>\n",
       "      <td>2018</td>\n",
       "      <td>325957</td>\n",
       "    </tr>\n",
       "    <tr>\n",
       "      <th>35</th>\n",
       "      <td>8789</td>\n",
       "      <td>337823302</td>\n",
       "      <td>2018-10-17</td>\n",
       "      <td>34906132</td>\n",
       "      <td>Philippe</td>\n",
       "      <td>logement exceptionnellement bien situé , mais ...</td>\n",
       "      <td>10</td>\n",
       "      <td>2018</td>\n",
       "      <td>360565</td>\n",
       "    </tr>\n",
       "    <tr>\n",
       "      <th>36</th>\n",
       "      <td>8789</td>\n",
       "      <td>341310209</td>\n",
       "      <td>2018-10-26</td>\n",
       "      <td>122320958</td>\n",
       "      <td>Krista</td>\n",
       "      <td>The location is excellent and the apartment ha...</td>\n",
       "      <td>10</td>\n",
       "      <td>2018</td>\n",
       "      <td>360565</td>\n",
       "    </tr>\n",
       "    <tr>\n",
       "      <th>...</th>\n",
       "      <td>...</td>\n",
       "      <td>...</td>\n",
       "      <td>...</td>\n",
       "      <td>...</td>\n",
       "      <td>...</td>\n",
       "      <td>...</td>\n",
       "      <td>...</td>\n",
       "      <td>...</td>\n",
       "      <td>...</td>\n",
       "    </tr>\n",
       "    <tr>\n",
       "      <th>123182</th>\n",
       "      <td>44821182</td>\n",
       "      <td>653517440</td>\n",
       "      <td>2020-08-19</td>\n",
       "      <td>361632383</td>\n",
       "      <td>Dymond</td>\n",
       "      <td>Highly recommend</td>\n",
       "      <td>8</td>\n",
       "      <td>2020</td>\n",
       "      <td>14654</td>\n",
       "    </tr>\n",
       "    <tr>\n",
       "      <th>123183</th>\n",
       "      <td>44821182</td>\n",
       "      <td>654898961</td>\n",
       "      <td>2020-08-22</td>\n",
       "      <td>361355771</td>\n",
       "      <td>Sasha</td>\n",
       "      <td>I love Mimis- I’m a regular here because it ha...</td>\n",
       "      <td>8</td>\n",
       "      <td>2020</td>\n",
       "      <td>14654</td>\n",
       "    </tr>\n",
       "    <tr>\n",
       "      <th>123184</th>\n",
       "      <td>44821182</td>\n",
       "      <td>659146527</td>\n",
       "      <td>2020-08-31</td>\n",
       "      <td>361355771</td>\n",
       "      <td>Sasha</td>\n",
       "      <td>See my previous review- I’m a regular here bec...</td>\n",
       "      <td>8</td>\n",
       "      <td>2020</td>\n",
       "      <td>14654</td>\n",
       "    </tr>\n",
       "    <tr>\n",
       "      <th>123191</th>\n",
       "      <td>44821202</td>\n",
       "      <td>656712617</td>\n",
       "      <td>2020-08-26</td>\n",
       "      <td>32633395</td>\n",
       "      <td>Luna</td>\n",
       "      <td>Terrible communication. Never gave me a refund...</td>\n",
       "      <td>8</td>\n",
       "      <td>2020</td>\n",
       "      <td>14654</td>\n",
       "    </tr>\n",
       "    <tr>\n",
       "      <th>123207</th>\n",
       "      <td>44824218</td>\n",
       "      <td>655665565</td>\n",
       "      <td>2020-08-23</td>\n",
       "      <td>26226656</td>\n",
       "      <td>Cristen</td>\n",
       "      <td>Very nice space for 4 people. Located in the t...</td>\n",
       "      <td>8</td>\n",
       "      <td>2020</td>\n",
       "      <td>14654</td>\n",
       "    </tr>\n",
       "  </tbody>\n",
       "</table>\n",
       "<p>3091365 rows × 9 columns</p>\n",
       "</div>"
      ],
      "text/plain": [
       "        listing_id         id        date  reviewer_id reviewer_name  \\\n",
       "14            3781  415389126  2019-02-22     83031353        Norman   \n",
       "15            3781  579765013  2019-12-21      3918963       Antoine   \n",
       "34            8789  322252190  2018-09-12     50244767        Joseph   \n",
       "35            8789  337823302  2018-10-17     34906132      Philippe   \n",
       "36            8789  341310209  2018-10-26    122320958        Krista   \n",
       "...            ...        ...         ...          ...           ...   \n",
       "123182    44821182  653517440  2020-08-19    361632383        Dymond   \n",
       "123183    44821182  654898961  2020-08-22    361355771         Sasha   \n",
       "123184    44821182  659146527  2020-08-31    361355771         Sasha   \n",
       "123191    44821202  656712617  2020-08-26     32633395          Luna   \n",
       "123207    44824218  655665565  2020-08-23     26226656       Cristen   \n",
       "\n",
       "                                                 comments  Month  Year   count  \n",
       "14      My partner and I stayed at Frank's apartment f...      2  2019  113551  \n",
       "15      I liked very much this apartment rented by Fra...     12  2019   64741  \n",
       "34      This is a beautiful place in an unbelievable l...      9  2018  325957  \n",
       "35      logement exceptionnellement bien situé , mais ...     10  2018  360565  \n",
       "36      The location is excellent and the apartment ha...     10  2018  360565  \n",
       "...                                                   ...    ...   ...     ...  \n",
       "123182                                   Highly recommend      8  2020   14654  \n",
       "123183  I love Mimis- I’m a regular here because it ha...      8  2020   14654  \n",
       "123184  See my previous review- I’m a regular here bec...      8  2020   14654  \n",
       "123191  Terrible communication. Never gave me a refund...      8  2020   14654  \n",
       "123207  Very nice space for 4 people. Located in the t...      8  2020   14654  \n",
       "\n",
       "[3091365 rows x 9 columns]"
      ]
     },
     "execution_count": 172,
     "metadata": {},
     "output_type": "execute_result"
    }
   ],
   "source": [
    "df_final"
   ]
  },
  {
   "cell_type": "code",
   "execution_count": 173,
   "metadata": {},
   "outputs": [
    {
     "name": "stderr",
     "output_type": "stream",
     "text": [
      "<ipython-input-173-6c906b74372d>:1: SettingWithCopyWarning: \n",
      "A value is trying to be set on a copy of a slice from a DataFrame\n",
      "\n",
      "See the caveats in the documentation: https://pandas.pydata.org/pandas-docs/stable/user_guide/indexing.html#returning-a-view-versus-a-copy\n",
      "  month_year = df_final.drop_duplicates(subset=['Year','Month','count'], inplace=True)\n"
     ]
    }
   ],
   "source": [
    "month_year = df_final.drop_duplicates(subset=['Year','Month','count'], inplace=True)"
   ]
  },
  {
   "cell_type": "code",
   "execution_count": 175,
   "metadata": {},
   "outputs": [],
   "source": [
    "month_year"
   ]
  },
  {
   "cell_type": "code",
   "execution_count": null,
   "metadata": {
    "scrolled": true
   },
   "outputs": [],
   "source": [
    "#Fixed to include all months of the year from 2017 on\n",
    "\n",
    "#df[(df['Year'] ==2020)&(df['Month'] ==9) ]\n",
    "new = df[((df['Year'] <= 2018)&(df['Month'] >= 9)) ]\n",
    "\n"
   ]
  },
  {
   "cell_type": "code",
   "execution_count": null,
   "metadata": {},
   "outputs": [],
   "source": [
    "df_review_final=df\n",
    "#NOW FIGURE OUT THE COUNT PER EACH MONTH FROM SEPT 2018 THROUGH AUGUST 2020, SHOULD BE 24 months"
   ]
  },
  {
   "cell_type": "code",
   "execution_count": null,
   "metadata": {},
   "outputs": [],
   "source": []
  },
  {
   "cell_type": "code",
   "execution_count": null,
   "metadata": {},
   "outputs": [],
   "source": [
    "df_review_final['count'] = (df.groupby([\"Year\", \"Month\"])['Year'].transform('count'))"
   ]
  },
  {
   "cell_type": "code",
   "execution_count": null,
   "metadata": {},
   "outputs": [],
   "source": [
    "new"
   ]
  },
  {
   "cell_type": "code",
   "execution_count": null,
   "metadata": {},
   "outputs": [],
   "source": [
    " "
   ]
  },
  {
   "cell_type": "code",
   "execution_count": null,
   "metadata": {},
   "outputs": [],
   "source": [
    "sum(df.duplicated(subset = ['comments']))"
   ]
  },
  {
   "cell_type": "code",
   "execution_count": null,
   "metadata": {},
   "outputs": [],
   "source": [
    "df_reviews['Year'].isna().sum()"
   ]
  },
  {
   "cell_type": "code",
   "execution_count": null,
   "metadata": {},
   "outputs": [],
   "source": [
    "df_review_final['Year'].isna().sum()"
   ]
  },
  {
   "cell_type": "code",
   "execution_count": null,
   "metadata": {},
   "outputs": [],
   "source": [
    "df_review_final.head(50)"
   ]
  },
  {
   "cell_type": "code",
   "execution_count": null,
   "metadata": {},
   "outputs": [],
   "source": [
    "df_review_final = df_reviews[df_reviews.duplicated(subset = ['comments'],keep='last')]"
   ]
  },
  {
   "cell_type": "code",
   "execution_count": null,
   "metadata": {},
   "outputs": [],
   "source": [
    "sum(df_review_final.duplicated(subset = ['comments']))"
   ]
  },
  {
   "cell_type": "code",
   "execution_count": null,
   "metadata": {},
   "outputs": [],
   "source": [
    "df_review_final['count'] = (df_review_final.groupby([\"Year\", \"Month\"])['Year'].transform('count'))\n",
    "df_review_final\n",
    "month_year = df_review_final.drop_duplicates(subset=['Year','Month','count'], inplace=True)"
   ]
  },
  {
   "cell_type": "code",
   "execution_count": null,
   "metadata": {},
   "outputs": [],
   "source": []
  },
  {
   "cell_type": "code",
   "execution_count": null,
   "metadata": {},
   "outputs": [],
   "source": [
    "df_review_final.drop(df_review_final[(df_review_final[\"Year\"] == 2020) & (df_review_final[\"Month\"] == other_months) ].index, inplace = True)  "
   ]
  },
  {
   "cell_type": "code",
   "execution_count": null,
   "metadata": {},
   "outputs": [],
   "source": [
    "df = df_reviews\n",
    "df['Year'] = pd.DatetimeIndex(df['date']).year\n",
    "# df['Month']=pd.DatetimeIndex(df['date']).strftime(\"%B\")\n",
    "df['Month'] = pd.DatetimeIndex(df['date']).month\n",
    "\n",
    "#Fixed to include all months of the year from 2017 on\n",
    "\n",
    "df.drop(df[(df[\"Year\"] < 2017) | (df[\"Month\"] < 1) ].index, inplace = True)  \n"
   ]
  },
  {
   "cell_type": "code",
   "execution_count": null,
   "metadata": {},
   "outputs": [],
   "source": [
    "df_review_final"
   ]
  },
  {
   "cell_type": "code",
   "execution_count": null,
   "metadata": {},
   "outputs": [],
   "source": [
    "df_review_final['Group 1']=i"
   ]
  },
  {
   "cell_type": "code",
   "execution_count": null,
   "metadata": {},
   "outputs": [],
   "source": []
  },
  {
   "cell_type": "code",
   "execution_count": null,
   "metadata": {},
   "outputs": [],
   "source": [
    "df_listings['listing_id']=df_listings['id']"
   ]
  },
  {
   "cell_type": "code",
   "execution_count": null,
   "metadata": {},
   "outputs": [],
   "source": [
    "result = pd.merge(df_listings,df_reviews, on=\"listing_id\")"
   ]
  },
  {
   "cell_type": "code",
   "execution_count": null,
   "metadata": {},
   "outputs": [],
   "source": [
    "result.head(5)"
   ]
  },
  {
   "cell_type": "code",
   "execution_count": null,
   "metadata": {},
   "outputs": [],
   "source": [
    "#Add Count column by grouping\n",
    "#df=df.groupby([\"Year\", \"Month\"])[\"Year\"].count().reset_index(name=\"count\")\n",
    "df['count'] = (df.groupby([\"Year\", \"Month\",'listing_id'])['Month'].transform('count'))"
   ]
  },
  {
   "cell_type": "code",
   "execution_count": null,
   "metadata": {},
   "outputs": [],
   "source": [
    "test = df[[\"Year\", \"Month\",\"count\",'listing_id']]\n",
    "test.drop_duplicates(subset=['Year','Month'], inplace=True)\n",
    "# test.shape\n",
    "test.sort_values(by=['Year', 'Month'])"
   ]
  },
  {
   "cell_type": "code",
   "execution_count": null,
   "metadata": {},
   "outputs": [],
   "source": [
    "test.shape"
   ]
  },
  {
   "cell_type": "code",
   "execution_count": null,
   "metadata": {},
   "outputs": [],
   "source": [
    "ttest.columns"
   ]
  },
  {
   "cell_type": "code",
   "execution_count": null,
   "metadata": {},
   "outputs": [],
   "source": [
    "stats.ttest_rel(ttest[\"2019\"],ttest[\"2020\"])"
   ]
  },
  {
   "cell_type": "code",
   "execution_count": null,
   "metadata": {},
   "outputs": [],
   "source": [
    "#T test comparing 2019 to 2020 for each month???\n",
    "ttest = test.pivot_table(index=['Month'], \n",
    "                      columns='Year', \n",
    "                      values='count', \n",
    "                      aggfunc='first').reset_index().rename_axis(None, axis=1)\n",
    "#ttest.columns = ['Month','2018','2019','2020']\n",
    "stats.ttest_rel(ttest['2019'],ttest['2020'])"
   ]
  },
  {
   "cell_type": "code",
   "execution_count": null,
   "metadata": {},
   "outputs": [],
   "source": [
    "ttest.columns"
   ]
  },
  {
   "cell_type": "code",
   "execution_count": null,
   "metadata": {},
   "outputs": [],
   "source": [
    "df.groupby(['Year','Month']).size()"
   ]
  },
  {
   "cell_type": "code",
   "execution_count": null,
   "metadata": {},
   "outputs": [],
   "source": [
    "df"
   ]
  },
  {
   "cell_type": "code",
   "execution_count": null,
   "metadata": {},
   "outputs": [],
   "source": [
    "# df['count'] = df.groupby(['Year']['Month'])['Month'].transform('count')"
   ]
  },
  {
   "cell_type": "code",
   "execution_count": null,
   "metadata": {},
   "outputs": [],
   "source": [
    "#Add count variable \n",
    "\n",
    "\n",
    "# df = pd.read_csv(\"reviews.csv\") \n",
    "# df['Year'] = pd.DatetimeIndex(df['date']).year\n",
    "# # df['Month']=pd.DatetimeIndex(df['date']).strftime(\"%B\")\n",
    "# df['Month'] = pd.DatetimeIndex(df['date']).month\n",
    "# df.drop(df[(df[\"Year\"] < 2018) | (df[\"Month\"] < 3) ].index, inplace = True)\n",
    "df=df.groupby([\"Year\", \"Month\"])[\"Year\"].count().reset_index(name=\"count\")"
   ]
  },
  {
   "cell_type": "code",
   "execution_count": null,
   "metadata": {},
   "outputs": [],
   "source": [
    "# Save a palette to a variable:\n",
    "palette = sns.color_palette(\"bright\")\n",
    " \n",
    "# Use palplot and pass in the variable:\n",
    "sns.palplot(palette)"
   ]
  },
  {
   "cell_type": "code",
   "execution_count": null,
   "metadata": {},
   "outputs": [],
   "source": [
    "\n",
    "ax = sns.lineplot(x=\"Month\", y=\"count\", hue=\"Year\",data=df, palette=sns.color_palette('bright', n_colors=3))\n",
    "# ax.text(x,y, df['count'])\n",
    "# label = '{.2f}'.format(df['count'])\n",
    "# plt.annotate(label,  (x,y))\n",
    "plt.suptitle('Number of Reviews in Boston and Cambridge')\n",
    "plt.xlim(3, 12)\n",
    "plt.savefig(\"Year on Year.png\")\n"
   ]
  },
  {
   "cell_type": "code",
   "execution_count": null,
   "metadata": {},
   "outputs": [],
   "source": [
    "#Find Unique properties ids number of comments per unique properties\n",
    "df_reviews=pd.merge(df,df.groupby(['Year','Month'],as_index=False).count(), on=['Year','Month'])\n"
   ]
  },
  {
   "cell_type": "code",
   "execution_count": null,
   "metadata": {},
   "outputs": [],
   "source": [
    "df_reviews"
   ]
  },
  {
   "cell_type": "code",
   "execution_count": null,
   "metadata": {},
   "outputs": [],
   "source": [
    "#PERCENT OF REVIEWS COLUMNS HAVE NAN\n",
    "(len(df_reviews)-df_reviews.count())/len(df_reviews))"
   ]
  },
  {
   "cell_type": "code",
   "execution_count": null,
   "metadata": {},
   "outputs": [],
   "source": [
    "#percentage OF NAs by feature\n",
    "(len(df_calendar)-df_calendar.count())/len(df_calendar)"
   ]
  },
  {
   "cell_type": "code",
   "execution_count": null,
   "metadata": {},
   "outputs": [],
   "source": [
    "#SET THE STYLE\n",
    "sns.set(style=\"darkgrid\")"
   ]
  },
  {
   "cell_type": "code",
   "execution_count": null,
   "metadata": {},
   "outputs": [],
   "source": [
    "\n",
    "ax3 = sns.catplot(x=\"Month\", y=\"adjusted_price\",hue=\"City\",kind='box',data=df_calendar,height=12, aspect=1, showfliers=False, palette=sns.color_palette(['purple', 'yellow']))\n",
    "#ax.legend(loc='upper right')\n",
    "ax3.fig.suptitle('Adjusted Price Per Month by City')\n",
    "#ax3.set_yscale(\"log\")\n",
    "#plt.yscale('log')\n",
    "plt.savefig('adjprice.jpg')\n"
   ]
  },
  {
   "cell_type": "code",
   "execution_count": null,
   "metadata": {},
   "outputs": [],
   "source": [
    "\n",
    "ax9 = sns.catplot(x=\"City\",y='price',hue='Month', kind='box',showfliers=False,data=df_listings)\n",
    "#ax.legend(loc='upper right')\n",
    "ax9.fig.suptitle('Listing Prices Box Plot')\n",
    "#plt.ylim(0, 30)\n",
    "plt.savefig('listingprices.jpg')"
   ]
  }
 ],
 "metadata": {
  "kernelspec": {
   "display_name": "Python 3",
   "language": "python",
   "name": "python3"
  },
  "language_info": {
   "codemirror_mode": {
    "name": "ipython",
    "version": 3
   },
   "file_extension": ".py",
   "mimetype": "text/x-python",
   "name": "python",
   "nbconvert_exporter": "python",
   "pygments_lexer": "ipython3",
   "version": "3.8.5"
  }
 },
 "nbformat": 4,
 "nbformat_minor": 2
}
