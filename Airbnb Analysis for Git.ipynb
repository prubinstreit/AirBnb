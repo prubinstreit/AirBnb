{
 "cells": [
  {
   "cell_type": "code",
   "execution_count": null,
   "metadata": {},
   "outputs": [],
   "source": [
    "%matplotlib inline\n",
    "import pandas as pd\n",
    "import numpy as np\n",
    "from scipy import stats\n",
    "import seaborn as sns\n",
    "import glob\n",
    "from matplotlib.ticker import PercentFormatter\n",
    "import matplotlib.pyplot as plt\n",
    "import os            \n"
   ]
  },
  {
   "cell_type": "code",
   "execution_count": null,
   "metadata": {},
   "outputs": [],
   "source": [
    "#change DIRECTORY TO downloads where final outputs ARE\n",
    "\n",
    "os.chdir(\"/Users/Philip/Documents/GitHub/AirBnb\")    "
   ]
  },
  {
   "cell_type": "code",
   "execution_count": null,
   "metadata": {},
   "outputs": [],
   "source": [
    "cities = [\"cambridge\", \"boston\"]\n",
    "df_reviews= []\n",
    "df_reviews=pd.DataFrame(df_reviews)"
   ]
  },
  {
   "cell_type": "code",
   "execution_count": null,
   "metadata": {},
   "outputs": [],
   "source": [
    "df_listings['id'].dtype"
   ]
  },
  {
   "cell_type": "code",
   "execution_count": null,
   "metadata": {},
   "outputs": [],
   "source": [
    "(df_reviews['id']).dtype"
   ]
  },
  {
   "cell_type": "code",
   "execution_count": null,
   "metadata": {},
   "outputs": [],
   "source": []
  },
  {
   "cell_type": "code",
   "execution_count": null,
   "metadata": {},
   "outputs": [],
   "source": []
  },
  {
   "cell_type": "code",
   "execution_count": null,
   "metadata": {},
   "outputs": [],
   "source": []
  },
  {
   "cell_type": "code",
   "execution_count": null,
   "metadata": {},
   "outputs": [],
   "source": [
    "# imported the requests library\n",
    "import requests\n",
    "file = \"http://data.insideairbnb.com/united-states/ma/cambridge/2021-02-25/data/reviews.csv.gz\"\n",
    "  \n",
    "# URL of the image to be downloaded is defined as file\n",
    "r = requests.get(file) # create HTTP response object\n",
    "  \n",
    "# send a HTTP request to the server and save\n",
    "# the HTTP response in a response object called r\n",
    "with open(\"cambridge reviews.csv.gz\",'wb') as f:\n",
    "  \n",
    "    # write the contents of the response (r.content)\n",
    "    # to a new file in binary mode.\n",
    "    f.write(r.content)\n",
    "\n",
    "#cities = [\"Cambridge\", \"Boston\"]"
   ]
  },
  {
   "cell_type": "code",
   "execution_count": null,
   "metadata": {},
   "outputs": [],
   "source": [
    "for i in cities:\n",
    "        df = pd.read_csv(str(i)+\" reviews.csv\")   \n",
    "        df['City']=i\n",
    "        df_reviews=pd.concat([df_reviews,df])\n",
    "\n",
    "df_reviews"
   ]
  },
  {
   "cell_type": "code",
   "execution_count": null,
   "metadata": {},
   "outputs": [],
   "source": [
    "df = df_reviews\n",
    "df['Year'] = pd.DatetimeIndex(df['date']).year\n",
    "# df['Month']=pd.DatetimeIndex(df['date']).strftime(\"%B\")\n",
    "df['Month'] = pd.DatetimeIndex(df['date']).month\n",
    "\n",
    "#Fixed to include all months of the year from 2017 on\n",
    "\n",
    "df.drop(df[(df[\"Year\"] < 2017) | (df[\"Month\"] < 1) ].index, inplace = True)  \n",
    "#df=df.groupby([\"Year\", \"Month\"])[\"Year\"].count().reset_index(name=\"count\")\n",
    "df['count'] = (df.groupby([\"Year\", \"Month\"])['Month'].transform('count'))"
   ]
  },
  {
   "cell_type": "code",
   "execution_count": null,
   "metadata": {},
   "outputs": [],
   "source": [
    "df_listings['listing_id']=df_listings['id']"
   ]
  },
  {
   "cell_type": "code",
   "execution_count": null,
   "metadata": {},
   "outputs": [],
   "source": [
    "df_listings['listing_id']"
   ]
  },
  {
   "cell_type": "code",
   "execution_count": null,
   "metadata": {},
   "outputs": [],
   "source": []
  },
  {
   "cell_type": "code",
   "execution_count": null,
   "metadata": {},
   "outputs": [],
   "source": [
    "result = pd.merge(df_listings,df_reviews, on=\"listing_id\")"
   ]
  },
  {
   "cell_type": "code",
   "execution_count": null,
   "metadata": {},
   "outputs": [],
   "source": [
    "result.head(5)"
   ]
  },
  {
   "cell_type": "code",
   "execution_count": null,
   "metadata": {},
   "outputs": [],
   "source": [
    "test = df[[\"Year\", \"Month\",\"count\"]]\n",
    "test.drop_duplicates(subset=['Year','Month'], inplace=True)\n",
    "# test.shape\n",
    "test.sort_values(by=['Year', 'Month'])"
   ]
  },
  {
   "cell_type": "code",
   "execution_count": null,
   "metadata": {},
   "outputs": [],
   "source": [
    "df"
   ]
  },
  {
   "cell_type": "code",
   "execution_count": null,
   "metadata": {},
   "outputs": [],
   "source": [
    "ttest.columns"
   ]
  },
  {
   "cell_type": "code",
   "execution_count": null,
   "metadata": {},
   "outputs": [],
   "source": [
    "stats.ttest_rel(ttest[\"2019\"],ttest[\"2020\"])"
   ]
  },
  {
   "cell_type": "code",
   "execution_count": null,
   "metadata": {},
   "outputs": [],
   "source": [
    "#T test comparing 2019 to 2020 for each month???\n",
    "ttest = test.pivot_table(index=['Month'], \n",
    "                      columns='Year', \n",
    "                      values='count', \n",
    "                      aggfunc='first').reset_index().rename_axis(None, axis=1)\n",
    "#ttest.columns = ['Month','2018','2019','2020']\n",
    "stats.ttest_rel(ttest['2019'],ttest['2020'])"
   ]
  },
  {
   "cell_type": "code",
   "execution_count": null,
   "metadata": {},
   "outputs": [],
   "source": [
    "ttest.columns"
   ]
  },
  {
   "cell_type": "code",
   "execution_count": null,
   "metadata": {},
   "outputs": [],
   "source": [
    "df.groupby(['Year','Month']).size()"
   ]
  },
  {
   "cell_type": "code",
   "execution_count": null,
   "metadata": {},
   "outputs": [],
   "source": [
    "df"
   ]
  },
  {
   "cell_type": "code",
   "execution_count": null,
   "metadata": {},
   "outputs": [],
   "source": [
    "# df['count'] = df.groupby(['Year']['Month'])['Month'].transform('count')"
   ]
  },
  {
   "cell_type": "code",
   "execution_count": null,
   "metadata": {},
   "outputs": [],
   "source": [
    "#Add count variable \n",
    "\n",
    "\n",
    "# df = pd.read_csv(\"reviews.csv\") \n",
    "# df['Year'] = pd.DatetimeIndex(df['date']).year\n",
    "# # df['Month']=pd.DatetimeIndex(df['date']).strftime(\"%B\")\n",
    "# df['Month'] = pd.DatetimeIndex(df['date']).month\n",
    "# df.drop(df[(df[\"Year\"] < 2018) | (df[\"Month\"] < 3) ].index, inplace = True)\n",
    "df=df.groupby([\"Year\", \"Month\"])[\"Year\"].count().reset_index(name=\"count\")"
   ]
  },
  {
   "cell_type": "code",
   "execution_count": null,
   "metadata": {},
   "outputs": [],
   "source": [
    "# Save a palette to a variable:\n",
    "palette = sns.color_palette(\"bright\")\n",
    " \n",
    "# Use palplot and pass in the variable:\n",
    "sns.palplot(palette)"
   ]
  },
  {
   "cell_type": "code",
   "execution_count": null,
   "metadata": {},
   "outputs": [],
   "source": [
    "\n",
    "ax = sns.lineplot(x=\"Month\", y=\"count\", hue=\"Year\",data=df, palette=sns.color_palette('bright', n_colors=3))\n",
    "# ax.text(x,y, df['count'])\n",
    "# label = '{.2f}'.format(df['count'])\n",
    "# plt.annotate(label,  (x,y))\n",
    "plt.suptitle('Number of Reviews in Boston and Cambridge')\n",
    "plt.xlim(3, 12)\n",
    "plt.savefig(\"Year on Year.png\")\n"
   ]
  },
  {
   "cell_type": "code",
   "execution_count": null,
   "metadata": {},
   "outputs": [],
   "source": [
    "#Find Unique properties ids number of comments per unique properties\n",
    "df_reviews=pd.merge(df,df.groupby(['Year','Month'],as_index=False).count(), on=['Year','Month'])\n"
   ]
  },
  {
   "cell_type": "code",
   "execution_count": null,
   "metadata": {},
   "outputs": [],
   "source": [
    "df_reviews"
   ]
  },
  {
   "cell_type": "code",
   "execution_count": null,
   "metadata": {},
   "outputs": [],
   "source": [
    "#PERCENT OF REVIEWS COLUMNS HAVE NAN\n",
    "(len(df_reviews)-df_reviews.count())/len(df_reviews))"
   ]
  },
  {
   "cell_type": "code",
   "execution_count": null,
   "metadata": {},
   "outputs": [],
   "source": [
    "#percentage OF NAs by feature\n",
    "(len(df_calendar)-df_calendar.count())/len(df_calendar)"
   ]
  },
  {
   "cell_type": "code",
   "execution_count": null,
   "metadata": {},
   "outputs": [],
   "source": [
    "#SET THE STYLE\n",
    "sns.set(style=\"darkgrid\")"
   ]
  },
  {
   "cell_type": "code",
   "execution_count": null,
   "metadata": {},
   "outputs": [],
   "source": [
    "\n",
    "ax3 = sns.catplot(x=\"Month\", y=\"adjusted_price\",hue=\"City\",kind='box',data=df_calendar,height=12, aspect=1, showfliers=False, palette=sns.color_palette(['purple', 'yellow']))\n",
    "#ax.legend(loc='upper right')\n",
    "ax3.fig.suptitle('Adjusted Price Per Month by City')\n",
    "#ax3.set_yscale(\"log\")\n",
    "#plt.yscale('log')\n",
    "plt.savefig('adjprice.jpg')\n"
   ]
  },
  {
   "cell_type": "code",
   "execution_count": null,
   "metadata": {},
   "outputs": [],
   "source": [
    "\n",
    "ax9 = sns.catplot(x=\"City\",y='price',hue='Month', kind='box',showfliers=False,data=df_listings)\n",
    "#ax.legend(loc='upper right')\n",
    "ax9.fig.suptitle('Listing Prices Box Plot')\n",
    "#plt.ylim(0, 30)\n",
    "plt.savefig('listingprices.jpg')"
   ]
  }
 ],
 "metadata": {
  "kernelspec": {
   "display_name": "Python 3",
   "language": "python",
   "name": "python3"
  },
  "language_info": {
   "codemirror_mode": {
    "name": "ipython",
    "version": 3
   },
   "file_extension": ".py",
   "mimetype": "text/x-python",
   "name": "python",
   "nbconvert_exporter": "python",
   "pygments_lexer": "ipython3",
   "version": "3.8.5"
  }
 },
 "nbformat": 4,
 "nbformat_minor": 2
}
