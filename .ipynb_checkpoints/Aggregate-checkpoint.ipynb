{
 "cells": [
  {
   "cell_type": "code",
   "execution_count": 1,
   "metadata": {},
   "outputs": [],
   "source": [
    "%matplotlib inline\n",
    "import pandas as pd\n",
    "import numpy as np\n",
    "from scipy import stats\n",
    "import seaborn as sns\n",
    "import glob\n",
    "from matplotlib.ticker import PercentFormatter\n",
    "import matplotlib.pyplot as plt\n",
    "import os            \n",
    "from IPython.core.interactiveshell import InteractiveShell\n",
    "InteractiveShell.ast_node_interactivity = \"all\""
   ]
  },
  {
   "cell_type": "code",
   "execution_count": 2,
   "metadata": {},
   "outputs": [],
   "source": [
    "#change DIRECTORY TO downloads where final outputs ARE\n",
    "\n",
    "os.chdir(\"/Users/Philip/Downloads/Inside Airbnb Raw Data/For Python\")   "
   ]
  },
  {
   "cell_type": "code",
   "execution_count": null,
   "metadata": {},
   "outputs": [],
   "source": [
    "cities = [\"cambridge\", \"boston\"]\n",
    "df_reviews= []\n",
    "df_reviews=pd.DataFrame(df_reviews)\n",
    "months = [\"jan\",\"feb\",\"mar\",\"april\",\"may\",\"june\",\"july\",\"august\",\"sept\",\"oct\",\"nov\",\"dec\"]\n",
    "years = [\"2018\",\"2019\",\"2020\"]\n",
    "years \n",
    "months"
   ]
  },
  {
   "cell_type": "code",
   "execution_count": null,
   "metadata": {},
   "outputs": [],
   "source": [
    "# imported the requests library\n",
    "import requests\n",
    "file = \"http://data.insideairbnb.com/united-states/ma/cambridge/2021-02-25/data/reviews.csv.gz\"\n",
    "  \n",
    "# URL of the image to be downloaded is defined as file\n",
    "r = requests.get(file) # create HTTP response object\n",
    "  \n",
    "# send a HTTP request to the server and save\n",
    "# the HTTP response in a response object called r\n",
    "with open(\"cambridge reviews.csv.gz\",'wb') as f:\n",
    "  \n",
    "    # write the contents of the response (r.content)\n",
    "    # to a new file in binary mode.\n",
    "    f.write(r.content)\n",
    "\n",
    "#cities = [\"Cambridge\", \"Boston\"]\n"
   ]
  },
  {
   "cell_type": "code",
   "execution_count": 3,
   "metadata": {},
   "outputs": [],
   "source": [
    "#for i in cities:\n",
    " #       df = pd.read_csv(str(i)+\" reviews.csv\")   \n",
    " #       df['City']=i\n",
    " #       df_reviews=pd.concat([df_reviews,df])\n",
    "\n",
    "#df_reviews\n",
    "#df_reviews['City']\n",
    "#del df_reviews\n",
    "#del df_review_final\n",
    "df = pd.read_csv(\"reviews_oct_2020.csv\")  "
   ]
  },
  {
   "cell_type": "code",
   "execution_count": null,
   "metadata": {},
   "outputs": [],
   "source": [
    "other_months = [\"sept\", \"oct\", \"nov\",\"dec\"]\n",
    "for i in months:\n",
    "        df = pd.read_csv(\"reviews_\"+str(i)+\"_2020.csv\")   \n",
    "        df['Month']=i\n",
    "        df['Year']=\"2020\"\n",
    "        df_reviews=pd.concat([df_reviews,df])\n",
    "        del df\n",
    "        df = pd.read_csv(\"reviews_2019_\"+str(i)+\".csv\")   \n",
    "        df['Month']=i\n",
    "        df['Year']= \"2019\"\n",
    "        df_reviews=pd.concat([df_reviews,df])\n",
    "        del df\n",
    "    \n",
    "for k in other_months:\n",
    "        df = pd.read_csv(\"reviews_2018_\"+str(k)+\".csv\")   \n",
    "        df['Month']=k\n",
    "        df['Year']= \"2018\"\n",
    "        df_reviews=pd.concat([df_reviews,df])  \n",
    "        del df"
   ]
  },
  {
   "cell_type": "code",
   "execution_count": 4,
   "metadata": {},
   "outputs": [],
   "source": [
    "df_reviews = df\n",
    "df['Year'] = pd.DatetimeIndex(df['date']).year\n",
    "# df['Month']=pd.DatetimeIndex(df['date']).strftime(\"%B\")\n",
    "df['Month'] = pd.DatetimeIndex(df['date']).month"
   ]
  },
  {
   "cell_type": "code",
   "execution_count": 5,
   "metadata": {},
   "outputs": [
    {
     "name": "stderr",
     "output_type": "stream",
     "text": [
      "<ipython-input-5-e3aeef9941e3>:2: SettingWithCopyWarning: \n",
      "A value is trying to be set on a copy of a slice from a DataFrame.\n",
      "Try using .loc[row_indexer,col_indexer] = value instead\n",
      "\n",
      "See the caveats in the documentation: https://pandas.pydata.org/pandas-docs/stable/user_guide/indexing.html#returning-a-view-versus-a-copy\n",
      "  df_final['Group'] = df_final['date'].apply(lambda x: 0 if x < \"2019-09-01\" else 1)\n",
      "<ipython-input-5-e3aeef9941e3>:3: SettingWithCopyWarning: \n",
      "A value is trying to be set on a copy of a slice from a DataFrame\n",
      "\n",
      "See the caveats in the documentation: https://pandas.pydata.org/pandas-docs/stable/user_guide/indexing.html#returning-a-view-versus-a-copy\n",
      "  df_final.drop_duplicates(subset=['Year','Month','comments'], inplace=True)\n"
     ]
    }
   ],
   "source": [
    "df_final = df_reviews[(df_reviews[\"date\"] >=\"2018-09-01\")& (df_reviews[\"date\"] <\"2020-09-01\") ]\n",
    "df_final['Group'] = df_final['date'].apply(lambda x: 0 if x < \"2019-09-01\" else 1)\n",
    "df_final.drop_duplicates(subset=['Year','Month','comments'], inplace=True)"
   ]
  },
  {
   "cell_type": "code",
   "execution_count": 6,
   "metadata": {},
   "outputs": [
    {
     "name": "stderr",
     "output_type": "stream",
     "text": [
      "<ipython-input-6-9b0f4e9dc74b>:1: SettingWithCopyWarning: \n",
      "A value is trying to be set on a copy of a slice from a DataFrame.\n",
      "Try using .loc[row_indexer,col_indexer] = value instead\n",
      "\n",
      "See the caveats in the documentation: https://pandas.pydata.org/pandas-docs/stable/user_guide/indexing.html#returning-a-view-versus-a-copy\n",
      "  df_final['unique count'] = df_final.groupby([\"Group\", \"Month\", \"listing_id\"])['comments'].transform('nunique')\n"
     ]
    }
   ],
   "source": [
    "df_final['unique count'] = df_final.groupby([\"Group\", \"Month\", \"listing_id\"])['comments'].transform('nunique')"
   ]
  },
  {
   "cell_type": "code",
   "execution_count": 7,
   "metadata": {},
   "outputs": [
    {
     "data": {
      "text/html": [
       "<div>\n",
       "<style scoped>\n",
       "    .dataframe tbody tr th:only-of-type {\n",
       "        vertical-align: middle;\n",
       "    }\n",
       "\n",
       "    .dataframe tbody tr th {\n",
       "        vertical-align: top;\n",
       "    }\n",
       "\n",
       "    .dataframe thead th {\n",
       "        text-align: right;\n",
       "    }\n",
       "</style>\n",
       "<table border=\"1\" class=\"dataframe\">\n",
       "  <thead>\n",
       "    <tr style=\"text-align: right;\">\n",
       "      <th></th>\n",
       "      <th>listing_id</th>\n",
       "      <th>id</th>\n",
       "      <th>date</th>\n",
       "      <th>reviewer_id</th>\n",
       "      <th>reviewer_name</th>\n",
       "      <th>comments</th>\n",
       "      <th>Year</th>\n",
       "      <th>Month</th>\n",
       "      <th>Group</th>\n",
       "      <th>unique count</th>\n",
       "    </tr>\n",
       "  </thead>\n",
       "  <tbody>\n",
       "    <tr>\n",
       "      <th>14</th>\n",
       "      <td>3781</td>\n",
       "      <td>415389126</td>\n",
       "      <td>2019-02-22</td>\n",
       "      <td>83031353</td>\n",
       "      <td>Norman</td>\n",
       "      <td>My partner and I stayed at Frank's apartment f...</td>\n",
       "      <td>2019</td>\n",
       "      <td>2</td>\n",
       "      <td>0</td>\n",
       "      <td>1</td>\n",
       "    </tr>\n",
       "    <tr>\n",
       "      <th>15</th>\n",
       "      <td>3781</td>\n",
       "      <td>579765013</td>\n",
       "      <td>2019-12-21</td>\n",
       "      <td>3918963</td>\n",
       "      <td>Antoine</td>\n",
       "      <td>I liked very much this apartment rented by Fra...</td>\n",
       "      <td>2019</td>\n",
       "      <td>12</td>\n",
       "      <td>1</td>\n",
       "      <td>1</td>\n",
       "    </tr>\n",
       "    <tr>\n",
       "      <th>86</th>\n",
       "      <td>5506</td>\n",
       "      <td>318303756</td>\n",
       "      <td>2018-09-03</td>\n",
       "      <td>159154361</td>\n",
       "      <td>Matt</td>\n",
       "      <td>The room is beautiful and feels like a boutiqu...</td>\n",
       "      <td>2018</td>\n",
       "      <td>9</td>\n",
       "      <td>0</td>\n",
       "      <td>3</td>\n",
       "    </tr>\n",
       "    <tr>\n",
       "      <th>87</th>\n",
       "      <td>5506</td>\n",
       "      <td>325402761</td>\n",
       "      <td>2018-09-19</td>\n",
       "      <td>213629817</td>\n",
       "      <td>Blake</td>\n",
       "      <td>Great place to stay</td>\n",
       "      <td>2018</td>\n",
       "      <td>9</td>\n",
       "      <td>0</td>\n",
       "      <td>3</td>\n",
       "    </tr>\n",
       "    <tr>\n",
       "      <th>88</th>\n",
       "      <td>5506</td>\n",
       "      <td>328948521</td>\n",
       "      <td>2018-09-27</td>\n",
       "      <td>62454383</td>\n",
       "      <td>E</td>\n",
       "      <td>Terry is very hospitable and kind, as well as ...</td>\n",
       "      <td>2018</td>\n",
       "      <td>9</td>\n",
       "      <td>0</td>\n",
       "      <td>3</td>\n",
       "    </tr>\n",
       "    <tr>\n",
       "      <th>...</th>\n",
       "      <td>...</td>\n",
       "      <td>...</td>\n",
       "      <td>...</td>\n",
       "      <td>...</td>\n",
       "      <td>...</td>\n",
       "      <td>...</td>\n",
       "      <td>...</td>\n",
       "      <td>...</td>\n",
       "      <td>...</td>\n",
       "      <td>...</td>\n",
       "    </tr>\n",
       "    <tr>\n",
       "      <th>122256</th>\n",
       "      <td>44821182</td>\n",
       "      <td>653517440</td>\n",
       "      <td>2020-08-19</td>\n",
       "      <td>361632383</td>\n",
       "      <td>Dymond</td>\n",
       "      <td>Highly recommend</td>\n",
       "      <td>2020</td>\n",
       "      <td>8</td>\n",
       "      <td>1</td>\n",
       "      <td>3</td>\n",
       "    </tr>\n",
       "    <tr>\n",
       "      <th>122257</th>\n",
       "      <td>44821182</td>\n",
       "      <td>654898961</td>\n",
       "      <td>2020-08-22</td>\n",
       "      <td>361355771</td>\n",
       "      <td>Sasha</td>\n",
       "      <td>I love Mimis- I’m a regular here because it ha...</td>\n",
       "      <td>2020</td>\n",
       "      <td>8</td>\n",
       "      <td>1</td>\n",
       "      <td>3</td>\n",
       "    </tr>\n",
       "    <tr>\n",
       "      <th>122258</th>\n",
       "      <td>44821182</td>\n",
       "      <td>659146527</td>\n",
       "      <td>2020-08-31</td>\n",
       "      <td>361355771</td>\n",
       "      <td>Sasha</td>\n",
       "      <td>See my previous review- I’m a regular here bec...</td>\n",
       "      <td>2020</td>\n",
       "      <td>8</td>\n",
       "      <td>1</td>\n",
       "      <td>3</td>\n",
       "    </tr>\n",
       "    <tr>\n",
       "      <th>122263</th>\n",
       "      <td>44821202</td>\n",
       "      <td>656712617</td>\n",
       "      <td>2020-08-26</td>\n",
       "      <td>32633395</td>\n",
       "      <td>Luna</td>\n",
       "      <td>Terrible communication. Never gave me a refund...</td>\n",
       "      <td>2020</td>\n",
       "      <td>8</td>\n",
       "      <td>1</td>\n",
       "      <td>1</td>\n",
       "    </tr>\n",
       "    <tr>\n",
       "      <th>122275</th>\n",
       "      <td>44824218</td>\n",
       "      <td>655665565</td>\n",
       "      <td>2020-08-23</td>\n",
       "      <td>26226656</td>\n",
       "      <td>Cristen</td>\n",
       "      <td>Very nice space for 4 people. Located in the t...</td>\n",
       "      <td>2020</td>\n",
       "      <td>8</td>\n",
       "      <td>1</td>\n",
       "      <td>1</td>\n",
       "    </tr>\n",
       "  </tbody>\n",
       "</table>\n",
       "<p>61619 rows × 10 columns</p>\n",
       "</div>"
      ],
      "text/plain": [
       "        listing_id         id        date  reviewer_id reviewer_name  \\\n",
       "14            3781  415389126  2019-02-22     83031353        Norman   \n",
       "15            3781  579765013  2019-12-21      3918963       Antoine   \n",
       "86            5506  318303756  2018-09-03    159154361          Matt   \n",
       "87            5506  325402761  2018-09-19    213629817         Blake   \n",
       "88            5506  328948521  2018-09-27     62454383             E   \n",
       "...            ...        ...         ...          ...           ...   \n",
       "122256    44821182  653517440  2020-08-19    361632383        Dymond   \n",
       "122257    44821182  654898961  2020-08-22    361355771         Sasha   \n",
       "122258    44821182  659146527  2020-08-31    361355771         Sasha   \n",
       "122263    44821202  656712617  2020-08-26     32633395          Luna   \n",
       "122275    44824218  655665565  2020-08-23     26226656       Cristen   \n",
       "\n",
       "                                                 comments  Year  Month  Group  \\\n",
       "14      My partner and I stayed at Frank's apartment f...  2019      2      0   \n",
       "15      I liked very much this apartment rented by Fra...  2019     12      1   \n",
       "86      The room is beautiful and feels like a boutiqu...  2018      9      0   \n",
       "87                                    Great place to stay  2018      9      0   \n",
       "88      Terry is very hospitable and kind, as well as ...  2018      9      0   \n",
       "...                                                   ...   ...    ...    ...   \n",
       "122256                                   Highly recommend  2020      8      1   \n",
       "122257  I love Mimis- I’m a regular here because it ha...  2020      8      1   \n",
       "122258  See my previous review- I’m a regular here bec...  2020      8      1   \n",
       "122263  Terrible communication. Never gave me a refund...  2020      8      1   \n",
       "122275  Very nice space for 4 people. Located in the t...  2020      8      1   \n",
       "\n",
       "        unique count  \n",
       "14                 1  \n",
       "15                 1  \n",
       "86                 3  \n",
       "87                 3  \n",
       "88                 3  \n",
       "...              ...  \n",
       "122256             3  \n",
       "122257             3  \n",
       "122258             3  \n",
       "122263             1  \n",
       "122275             1  \n",
       "\n",
       "[61619 rows x 10 columns]"
      ]
     },
     "execution_count": 7,
     "metadata": {},
     "output_type": "execute_result"
    }
   ],
   "source": [
    "df_final\n"
   ]
  },
  {
   "cell_type": "code",
   "execution_count": null,
   "metadata": {},
   "outputs": [],
   "source": [
    "df_review_final=df\n",
    "#NOW FIGURE OUT THE COUNT PER EACH MONTH FROM SEPT 2018 THROUGH AUGUST 2020, SHOULD BE 24 months"
   ]
  },
  {
   "cell_type": "code",
   "execution_count": 14,
   "metadata": {},
   "outputs": [],
   "source": [
    "df_final.to_csv('October 2020 Review Data Aggregated.csv')"
   ]
  },
  {
   "cell_type": "code",
   "execution_count": null,
   "metadata": {},
   "outputs": [],
   "source": []
  },
  {
   "cell_type": "code",
   "execution_count": null,
   "metadata": {},
   "outputs": [],
   "source": [
    "test = df[[\"Year\", \"Month\",\"count\",'listing_id']]\n",
    "test.drop_duplicates(subset=['Year','Month'], inplace=True)\n",
    "# test.shape\n",
    "test.sort_values(by=['Year', 'Month'])"
   ]
  },
  {
   "cell_type": "code",
   "execution_count": null,
   "metadata": {},
   "outputs": [],
   "source": [
    "test.shape"
   ]
  },
  {
   "cell_type": "code",
   "execution_count": null,
   "metadata": {},
   "outputs": [],
   "source": [
    "ttest.columns"
   ]
  },
  {
   "cell_type": "code",
   "execution_count": null,
   "metadata": {},
   "outputs": [],
   "source": [
    "stats.ttest_rel(ttest[\"2019\"],ttest[\"2020\"])"
   ]
  },
  {
   "cell_type": "code",
   "execution_count": null,
   "metadata": {},
   "outputs": [],
   "source": [
    "#T test comparing 2019 to 2020 for each month???\n",
    "ttest = test.pivot_table(index=['Month'], \n",
    "                      columns='Year', \n",
    "                      values='count', \n",
    "                      aggfunc='first').reset_index().rename_axis(None, axis=1)\n",
    "#ttest.columns = ['Month','2018','2019','2020']\n",
    "stats.ttest_rel(ttest['2019'],ttest['2020'])"
   ]
  },
  {
   "cell_type": "code",
   "execution_count": null,
   "metadata": {},
   "outputs": [],
   "source": [
    "ttest.columns"
   ]
  },
  {
   "cell_type": "code",
   "execution_count": null,
   "metadata": {},
   "outputs": [],
   "source": [
    "#Add count variable \n",
    "\n",
    "df_final=df_final.groupby([\"Year\", \"Month\"])[\"comments\"].count().reset_index(name=\"other\")"
   ]
  },
  {
   "cell_type": "code",
   "execution_count": null,
   "metadata": {},
   "outputs": [],
   "source": [
    "# Save a palette to a variable:\n",
    "palette = sns.color_palette(\"bright\")\n",
    " \n",
    "# Use palplot and pass in the variable:\n",
    "sns.palplot(palette)"
   ]
  },
  {
   "cell_type": "code",
   "execution_count": null,
   "metadata": {},
   "outputs": [],
   "source": [
    "results = pd.merge(df_final, df_reviews, on = ['Year','Month'])"
   ]
  },
  {
   "cell_type": "code",
   "execution_count": null,
   "metadata": {},
   "outputs": [],
   "source": [
    "#df_final['other']=df_final.groupby(['Month','Year'])['comments'].nunique()\n",
    "#df_unique.iloc[: ,1 ]\n",
    "df_final\n",
    "df_reviews"
   ]
  },
  {
   "cell_type": "code",
   "execution_count": 13,
   "metadata": {},
   "outputs": [
    {
     "data": {
      "text/plain": [
       "Text(0.5, 0.98, 'Number of Comments in Boston')"
      ]
     },
     "execution_count": 13,
     "metadata": {},
     "output_type": "execute_result"
    },
    {
     "data": {
      "text/plain": [
       "(0.0, 12.0)"
      ]
     },
     "execution_count": 13,
     "metadata": {},
     "output_type": "execute_result"
    },
    {
     "data": {
      "image/png": "[encoded data removed]",
      "text/plain": [
       "<Figure size 432x288 with 1 Axes>"
      ]
     },
     "metadata": {
      "needs_background": "light"
     },
     "output_type": "display_data"
    }
   ],
   "source": [
    "\n",
    "ax = sns.scatterplot(x=\"Month\", y=\"unique count\", hue=\"Group\",data=df_final, palette=sns.color_palette('bright', n_colors=2))\n",
    "#ax.text(x,y, df_final['count'])\n",
    "#label = '{.2f}'.format(df_final['count'])\n",
    "#plt.annotate(label,  (x,y))\n",
    "plt.suptitle('Number of Comments in Boston')\n",
    "plt.xlim(0, 12)\n",
    "plt.savefig(\"Year on Year July 8.png\")\n"
   ]
  },
  {
   "cell_type": "code",
   "execution_count": null,
   "metadata": {},
   "outputs": [],
   "source": [
    "category_order = ['9','10','11','12','1','2','3','4','5','6','7','8']\n",
    "\n",
    "sns.catplot(x=\"Month\", hue=\"Group\", kind='count', data=df_final)"
   ]
  },
  {
   "cell_type": "code",
   "execution_count": null,
   "metadata": {},
   "outputs": [],
   "source": [
    "#SET THE STYLE\n",
    "sns.set(style=\"darkgrid\")"
   ]
  },
  {
   "cell_type": "code",
   "execution_count": null,
   "metadata": {},
   "outputs": [],
   "source": [
    "#table = pd.pivot_table(data=df_final,index=['Group','Month'],values=['count'])\n",
    "table = pd.pivot_table(data=df_final,index=['Group','Month'],aggfunc= 'count')"
   ]
  },
  {
   "cell_type": "code",
   "execution_count": null,
   "metadata": {},
   "outputs": [],
   "source": [
    "table"
   ]
  },
  {
   "cell_type": "code",
   "execution_count": null,
   "metadata": {},
   "outputs": [],
   "source": [
    "table.to_csv('Table.csv',index=True)"
   ]
  },
  {
   "cell_type": "code",
   "execution_count": 11,
   "metadata": {},
   "outputs": [],
   "source": [
    "df_final.to_csv('Aggregated at Listing Level.csv', index=False)"
   ]
  },
  {
   "cell_type": "code",
   "execution_count": null,
   "metadata": {},
   "outputs": [],
   "source": [
    "df_final.shape"
   ]
  },
  {
   "cell_type": "code",
   "execution_count": null,
   "metadata": {},
   "outputs": [],
   "source": [
    "df_final.drop_duplicates(subset=['Year','Month','comments'], inplace=True)"
   ]
  },
  {
   "cell_type": "code",
   "execution_count": null,
   "metadata": {},
   "outputs": [],
   "source": [
    "df_final.shape"
   ]
  },
  {
   "cell_type": "code",
   "execution_count": null,
   "metadata": {},
   "outputs": [],
   "source": []
  }
 ],
 "metadata": {
  "kernelspec": {
   "display_name": "Python 3",
   "language": "python",
   "name": "python3"
  },
  "language_info": {
   "codemirror_mode": {
    "name": "ipython",
    "version": 3
   },
   "file_extension": ".py",
   "mimetype": "text/x-python",
   "name": "python",
   "nbconvert_exporter": "python",
   "pygments_lexer": "ipython3",
   "version": "3.8.5"
  }
 },
 "nbformat": 4,
 "nbformat_minor": 2
}
