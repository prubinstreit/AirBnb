{
 "cells": [
  {
   "cell_type": "code",
   "execution_count": 77,
   "metadata": {},
   "outputs": [],
   "source": [
    "%matplotlib inline\n",
    "import pandas as pd\n",
    "import numpy as np\n",
    "from scipy import stats\n",
    "import seaborn as sns\n",
    "import glob\n",
    "from matplotlib.ticker import PercentFormatter\n",
    "import matplotlib.pyplot as plt\n",
    "import os            \n"
   ]
  },
  {
   "cell_type": "code",
   "execution_count": 12,
   "metadata": {},
   "outputs": [],
   "source": [
    "#change DIRECTORY TO downloads where final outputs ARE\n",
    "\n",
    "os.chdir(\"/Users/Philip/Documents/GitHub/AirBnb\")    "
   ]
  },
  {
   "cell_type": "code",
   "execution_count": 14,
   "metadata": {},
   "outputs": [],
   "source": [
    "cities = [\"cambridge\", \"boston\"]\n",
    "df_reviews= []\n",
    "df_reviews=pd.DataFrame(df_reviews)"
   ]
  },
  {
   "cell_type": "code",
   "execution_count": 15,
   "metadata": {},
   "outputs": [],
   "source": [
    "# imported the requests library\n",
    "import requests\n",
    "file = \"http://data.insideairbnb.com/united-states/ma/cambridge/2021-02-25/data/reviews.csv.gz\"\n",
    "  \n",
    "# URL of the image to be downloaded is defined as file\n",
    "r = requests.get(file) # create HTTP response object\n",
    "  \n",
    "# send a HTTP request to the server and save\n",
    "# the HTTP response in a response object called r\n",
    "with open(\"cambridge reviews.csv.gz\",'wb') as f:\n",
    "  \n",
    "    # write the contents of the response (r.content)\n",
    "    # to a new file in binary mode.\n",
    "    f.write(r.content)\n",
    "\n",
    "#cities = [\"Cambridge\", \"Boston\"]"
   ]
  },
  {
   "cell_type": "code",
   "execution_count": null,
   "metadata": {},
   "outputs": [],
   "source": [
    "for i in cities:\n",
    "        df = pd.read_csv(str(i)+\" reviews.csv\")   \n",
    "        df['City']=i\n",
    "        df_reviews=pd.concat([df_reviews,df])\n",
    "\n",
    "df_reviews"
   ]
  },
  {
   "cell_type": "code",
   "execution_count": 29,
   "metadata": {},
   "outputs": [],
   "source": [
    "df = df_reviews\n",
    "df['Year'] = pd.DatetimeIndex(df['date']).year\n",
    "# df['Month']=pd.DatetimeIndex(df['date']).strftime(\"%B\")\n",
    "df['Month'] = pd.DatetimeIndex(df['date']).month\n",
    "df.drop(df[(df[\"Year\"] < 2018) | (df[\"Month\"] < 3) ].index, inplace = True)\n",
    "#df=df.groupby([\"Year\", \"Month\"])[\"Year\"].count().reset_index(name=\"count\")\n",
    "df['count'] = (df.groupby([\"Year\", \"Month\"])['Month'].transform('count'))"
   ]
  },
  {
   "cell_type": "code",
   "execution_count": 70,
   "metadata": {},
   "outputs": [
    {
     "name": "stderr",
     "output_type": "stream",
     "text": [
      "<ipython-input-70-9bcf665e6663>:2: SettingWithCopyWarning: \n",
      "A value is trying to be set on a copy of a slice from a DataFrame\n",
      "\n",
      "See the caveats in the documentation: https://pandas.pydata.org/pandas-docs/stable/user_guide/indexing.html#returning-a-view-versus-a-copy\n",
      "  test.drop_duplicates(subset=['Year','Month'], inplace=True)\n"
     ]
    },
    {
     "data": {
      "text/html": [
       "<div>\n",
       "<style scoped>\n",
       "    .dataframe tbody tr th:only-of-type {\n",
       "        vertical-align: middle;\n",
       "    }\n",
       "\n",
       "    .dataframe tbody tr th {\n",
       "        vertical-align: top;\n",
       "    }\n",
       "\n",
       "    .dataframe thead th {\n",
       "        text-align: right;\n",
       "    }\n",
       "</style>\n",
       "<table border=\"1\" class=\"dataframe\">\n",
       "  <thead>\n",
       "    <tr style=\"text-align: right;\">\n",
       "      <th></th>\n",
       "      <th>Year</th>\n",
       "      <th>Month</th>\n",
       "      <th>count</th>\n",
       "    </tr>\n",
       "  </thead>\n",
       "  <tbody>\n",
       "    <tr>\n",
       "      <th>2701</th>\n",
       "      <td>2018</td>\n",
       "      <td>3</td>\n",
       "      <td>1627</td>\n",
       "    </tr>\n",
       "    <tr>\n",
       "      <th>3866</th>\n",
       "      <td>2018</td>\n",
       "      <td>4</td>\n",
       "      <td>2149</td>\n",
       "    </tr>\n",
       "    <tr>\n",
       "      <th>2323</th>\n",
       "      <td>2018</td>\n",
       "      <td>5</td>\n",
       "      <td>2648</td>\n",
       "    </tr>\n",
       "    <tr>\n",
       "      <th>1867</th>\n",
       "      <td>2018</td>\n",
       "      <td>6</td>\n",
       "      <td>2669</td>\n",
       "    </tr>\n",
       "    <tr>\n",
       "      <th>172</th>\n",
       "      <td>2018</td>\n",
       "      <td>7</td>\n",
       "      <td>2677</td>\n",
       "    </tr>\n",
       "    <tr>\n",
       "      <th>497</th>\n",
       "      <td>2018</td>\n",
       "      <td>8</td>\n",
       "      <td>3210</td>\n",
       "    </tr>\n",
       "    <tr>\n",
       "      <th>173</th>\n",
       "      <td>2018</td>\n",
       "      <td>9</td>\n",
       "      <td>3195</td>\n",
       "    </tr>\n",
       "    <tr>\n",
       "      <th>175</th>\n",
       "      <td>2018</td>\n",
       "      <td>10</td>\n",
       "      <td>3642</td>\n",
       "    </tr>\n",
       "    <tr>\n",
       "      <th>176</th>\n",
       "      <td>2018</td>\n",
       "      <td>11</td>\n",
       "      <td>2476</td>\n",
       "    </tr>\n",
       "    <tr>\n",
       "      <th>1488</th>\n",
       "      <td>2018</td>\n",
       "      <td>12</td>\n",
       "      <td>1536</td>\n",
       "    </tr>\n",
       "    <tr>\n",
       "      <th>1491</th>\n",
       "      <td>2019</td>\n",
       "      <td>3</td>\n",
       "      <td>2294</td>\n",
       "    </tr>\n",
       "    <tr>\n",
       "      <th>213</th>\n",
       "      <td>2019</td>\n",
       "      <td>4</td>\n",
       "      <td>2912</td>\n",
       "    </tr>\n",
       "    <tr>\n",
       "      <th>177</th>\n",
       "      <td>2019</td>\n",
       "      <td>5</td>\n",
       "      <td>3797</td>\n",
       "    </tr>\n",
       "    <tr>\n",
       "      <th>882</th>\n",
       "      <td>2019</td>\n",
       "      <td>6</td>\n",
       "      <td>3845</td>\n",
       "    </tr>\n",
       "    <tr>\n",
       "      <th>178</th>\n",
       "      <td>2019</td>\n",
       "      <td>7</td>\n",
       "      <td>3435</td>\n",
       "    </tr>\n",
       "    <tr>\n",
       "      <th>498</th>\n",
       "      <td>2019</td>\n",
       "      <td>8</td>\n",
       "      <td>3677</td>\n",
       "    </tr>\n",
       "    <tr>\n",
       "      <th>179</th>\n",
       "      <td>2019</td>\n",
       "      <td>9</td>\n",
       "      <td>3942</td>\n",
       "    </tr>\n",
       "    <tr>\n",
       "      <th>1918</th>\n",
       "      <td>2019</td>\n",
       "      <td>10</td>\n",
       "      <td>3923</td>\n",
       "    </tr>\n",
       "    <tr>\n",
       "      <th>483</th>\n",
       "      <td>2019</td>\n",
       "      <td>11</td>\n",
       "      <td>2699</td>\n",
       "    </tr>\n",
       "    <tr>\n",
       "      <th>1928</th>\n",
       "      <td>2019</td>\n",
       "      <td>12</td>\n",
       "      <td>2084</td>\n",
       "    </tr>\n",
       "    <tr>\n",
       "      <th>1930</th>\n",
       "      <td>2020</td>\n",
       "      <td>3</td>\n",
       "      <td>1557</td>\n",
       "    </tr>\n",
       "    <tr>\n",
       "      <th>8071</th>\n",
       "      <td>2020</td>\n",
       "      <td>4</td>\n",
       "      <td>217</td>\n",
       "    </tr>\n",
       "    <tr>\n",
       "      <th>18830</th>\n",
       "      <td>2020</td>\n",
       "      <td>5</td>\n",
       "      <td>436</td>\n",
       "    </tr>\n",
       "    <tr>\n",
       "      <th>18831</th>\n",
       "      <td>2020</td>\n",
       "      <td>6</td>\n",
       "      <td>697</td>\n",
       "    </tr>\n",
       "    <tr>\n",
       "      <th>11165</th>\n",
       "      <td>2020</td>\n",
       "      <td>7</td>\n",
       "      <td>1269</td>\n",
       "    </tr>\n",
       "    <tr>\n",
       "      <th>2706</th>\n",
       "      <td>2020</td>\n",
       "      <td>8</td>\n",
       "      <td>1604</td>\n",
       "    </tr>\n",
       "    <tr>\n",
       "      <th>6296</th>\n",
       "      <td>2020</td>\n",
       "      <td>9</td>\n",
       "      <td>1443</td>\n",
       "    </tr>\n",
       "    <tr>\n",
       "      <th>6298</th>\n",
       "      <td>2020</td>\n",
       "      <td>10</td>\n",
       "      <td>1882</td>\n",
       "    </tr>\n",
       "    <tr>\n",
       "      <th>2707</th>\n",
       "      <td>2020</td>\n",
       "      <td>11</td>\n",
       "      <td>1410</td>\n",
       "    </tr>\n",
       "    <tr>\n",
       "      <th>4013</th>\n",
       "      <td>2020</td>\n",
       "      <td>12</td>\n",
       "      <td>959</td>\n",
       "    </tr>\n",
       "  </tbody>\n",
       "</table>\n",
       "</div>"
      ],
      "text/plain": [
       "       Year  Month  count\n",
       "2701   2018      3   1627\n",
       "3866   2018      4   2149\n",
       "2323   2018      5   2648\n",
       "1867   2018      6   2669\n",
       "172    2018      7   2677\n",
       "497    2018      8   3210\n",
       "173    2018      9   3195\n",
       "175    2018     10   3642\n",
       "176    2018     11   2476\n",
       "1488   2018     12   1536\n",
       "1491   2019      3   2294\n",
       "213    2019      4   2912\n",
       "177    2019      5   3797\n",
       "882    2019      6   3845\n",
       "178    2019      7   3435\n",
       "498    2019      8   3677\n",
       "179    2019      9   3942\n",
       "1918   2019     10   3923\n",
       "483    2019     11   2699\n",
       "1928   2019     12   2084\n",
       "1930   2020      3   1557\n",
       "8071   2020      4    217\n",
       "18830  2020      5    436\n",
       "18831  2020      6    697\n",
       "11165  2020      7   1269\n",
       "2706   2020      8   1604\n",
       "6296   2020      9   1443\n",
       "6298   2020     10   1882\n",
       "2707   2020     11   1410\n",
       "4013   2020     12    959"
      ]
     },
     "execution_count": 70,
     "metadata": {},
     "output_type": "execute_result"
    }
   ],
   "source": [
    "test = df[[\"Year\", \"Month\",\"count\"]]\n",
    "test.drop_duplicates(subset=['Year','Month'], inplace=True)\n",
    "# test.shape\n",
    "test.sort_values(by=['Year', 'Month'])"
   ]
  },
  {
   "cell_type": "code",
   "execution_count": 87,
   "metadata": {},
   "outputs": [
    {
     "data": {
      "text/html": [
       "<div>\n",
       "<style scoped>\n",
       "    .dataframe tbody tr th:only-of-type {\n",
       "        vertical-align: middle;\n",
       "    }\n",
       "\n",
       "    .dataframe tbody tr th {\n",
       "        vertical-align: top;\n",
       "    }\n",
       "\n",
       "    .dataframe thead th {\n",
       "        text-align: right;\n",
       "    }\n",
       "</style>\n",
       "<table border=\"1\" class=\"dataframe\">\n",
       "  <thead>\n",
       "    <tr style=\"text-align: right;\">\n",
       "      <th></th>\n",
       "      <th>Month</th>\n",
       "      <th>2018</th>\n",
       "      <th>2019</th>\n",
       "      <th>2020</th>\n",
       "    </tr>\n",
       "  </thead>\n",
       "  <tbody>\n",
       "    <tr>\n",
       "      <th>0</th>\n",
       "      <td>3</td>\n",
       "      <td>1627</td>\n",
       "      <td>2294</td>\n",
       "      <td>1557</td>\n",
       "    </tr>\n",
       "    <tr>\n",
       "      <th>1</th>\n",
       "      <td>4</td>\n",
       "      <td>2149</td>\n",
       "      <td>2912</td>\n",
       "      <td>217</td>\n",
       "    </tr>\n",
       "    <tr>\n",
       "      <th>2</th>\n",
       "      <td>5</td>\n",
       "      <td>2648</td>\n",
       "      <td>3797</td>\n",
       "      <td>436</td>\n",
       "    </tr>\n",
       "    <tr>\n",
       "      <th>3</th>\n",
       "      <td>6</td>\n",
       "      <td>2669</td>\n",
       "      <td>3845</td>\n",
       "      <td>697</td>\n",
       "    </tr>\n",
       "    <tr>\n",
       "      <th>4</th>\n",
       "      <td>7</td>\n",
       "      <td>2677</td>\n",
       "      <td>3435</td>\n",
       "      <td>1269</td>\n",
       "    </tr>\n",
       "    <tr>\n",
       "      <th>5</th>\n",
       "      <td>8</td>\n",
       "      <td>3210</td>\n",
       "      <td>3677</td>\n",
       "      <td>1604</td>\n",
       "    </tr>\n",
       "    <tr>\n",
       "      <th>6</th>\n",
       "      <td>9</td>\n",
       "      <td>3195</td>\n",
       "      <td>3942</td>\n",
       "      <td>1443</td>\n",
       "    </tr>\n",
       "    <tr>\n",
       "      <th>7</th>\n",
       "      <td>10</td>\n",
       "      <td>3642</td>\n",
       "      <td>3923</td>\n",
       "      <td>1882</td>\n",
       "    </tr>\n",
       "    <tr>\n",
       "      <th>8</th>\n",
       "      <td>11</td>\n",
       "      <td>2476</td>\n",
       "      <td>2699</td>\n",
       "      <td>1410</td>\n",
       "    </tr>\n",
       "    <tr>\n",
       "      <th>9</th>\n",
       "      <td>12</td>\n",
       "      <td>1536</td>\n",
       "      <td>2084</td>\n",
       "      <td>959</td>\n",
       "    </tr>\n",
       "  </tbody>\n",
       "</table>\n",
       "</div>"
      ],
      "text/plain": [
       "   Month  2018  2019  2020\n",
       "0      3  1627  2294  1557\n",
       "1      4  2149  2912   217\n",
       "2      5  2648  3797   436\n",
       "3      6  2669  3845   697\n",
       "4      7  2677  3435  1269\n",
       "5      8  3210  3677  1604\n",
       "6      9  3195  3942  1443\n",
       "7     10  3642  3923  1882\n",
       "8     11  2476  2699  1410\n",
       "9     12  1536  2084   959"
      ]
     },
     "execution_count": 87,
     "metadata": {},
     "output_type": "execute_result"
    }
   ],
   "source": [
    "ttest"
   ]
  },
  {
   "cell_type": "code",
   "execution_count": 91,
   "metadata": {},
   "outputs": [
    {
     "data": {
      "text/plain": [
       "Index(['Month', 2018, 2019, 2020], dtype='object')"
      ]
     },
     "execution_count": 91,
     "metadata": {},
     "output_type": "execute_result"
    }
   ],
   "source": [
    "ttest.columns"
   ]
  },
  {
   "cell_type": "code",
   "execution_count": 88,
   "metadata": {},
   "outputs": [
    {
     "ename": "SyntaxError",
     "evalue": "invalid syntax (<ipython-input-88-9ff8ac642e7d>, line 1)",
     "output_type": "error",
     "traceback": [
      "\u001b[0;36m  File \u001b[0;32m\"<ipython-input-88-9ff8ac642e7d>\"\u001b[0;36m, line \u001b[0;32m1\u001b[0m\n\u001b[0;31m    ttest.rename(columns={\"Month\", \"2018, \"2019\", \"2020\"})\u001b[0m\n\u001b[0m                                           ^\u001b[0m\n\u001b[0;31mSyntaxError\u001b[0m\u001b[0;31m:\u001b[0m invalid syntax\n"
     ]
    }
   ],
   "source": [
    "ttest.rename(columns={\"Month\", \"2018, \"2019\", \"2020\"})"
   ]
  },
  {
   "cell_type": "code",
   "execution_count": null,
   "metadata": {},
   "outputs": [],
   "source": [
    "#T test comparing 2019 to 2020 for each month???\n",
    "ttest = test.pivot_table(index=['Month'], \n",
    "                      columns='Year', \n",
    "                      values='count', \n",
    "                      aggfunc='first').reset_index().rename_axis(None, axis=1)\n",
    "stats.ttest_rel(df[2], df[3])"
   ]
  },
  {
   "cell_type": "code",
   "execution_count": 96,
   "metadata": {},
   "outputs": [],
   "source": [
    "ttest.columns = ['Month','2018','2019','2020']"
   ]
  },
  {
   "cell_type": "code",
   "execution_count": 99,
   "metadata": {},
   "outputs": [
    {
     "data": {
      "text/plain": [
       "Ttest_relResult(statistic=-6.725384852035949, pvalue=8.601741925114262e-05)"
      ]
     },
     "execution_count": 99,
     "metadata": {},
     "output_type": "execute_result"
    }
   ],
   "source": [
    "stats.ttest_rel(ttest['2018'],ttest['2019'])"
   ]
  },
  {
   "cell_type": "code",
   "execution_count": 20,
   "metadata": {},
   "outputs": [
    {
     "data": {
      "text/plain": [
       "Year  Month\n",
       "2018  3        1627\n",
       "      4        2149\n",
       "      5        2648\n",
       "      6        2669\n",
       "      7        2677\n",
       "      8        3210\n",
       "      9        3195\n",
       "      10       3642\n",
       "      11       2476\n",
       "      12       1536\n",
       "2019  3        2294\n",
       "      4        2912\n",
       "      5        3797\n",
       "      6        3845\n",
       "      7        3435\n",
       "      8        3677\n",
       "      9        3942\n",
       "      10       3923\n",
       "      11       2699\n",
       "      12       2084\n",
       "2020  3        1557\n",
       "      4         217\n",
       "      5         436\n",
       "      6         697\n",
       "      7        1269\n",
       "      8        1604\n",
       "      9        1443\n",
       "      10       1882\n",
       "      11       1410\n",
       "      12        959\n",
       "dtype: int64"
      ]
     },
     "execution_count": 20,
     "metadata": {},
     "output_type": "execute_result"
    }
   ],
   "source": [
    "df.groupby(['Year','Month']).size()"
   ]
  },
  {
   "cell_type": "code",
   "execution_count": null,
   "metadata": {},
   "outputs": [],
   "source": [
    "df"
   ]
  },
  {
   "cell_type": "code",
   "execution_count": null,
   "metadata": {},
   "outputs": [],
   "source": [
    "# df['count'] = df.groupby(['Year']['Month'])['Month'].transform('count')"
   ]
  },
  {
   "cell_type": "code",
   "execution_count": null,
   "metadata": {},
   "outputs": [],
   "source": [
    "#Add count variable \n",
    "\n",
    "\n",
    "# df = pd.read_csv(\"reviews.csv\") \n",
    "# df['Year'] = pd.DatetimeIndex(df['date']).year\n",
    "# # df['Month']=pd.DatetimeIndex(df['date']).strftime(\"%B\")\n",
    "# df['Month'] = pd.DatetimeIndex(df['date']).month\n",
    "# df.drop(df[(df[\"Year\"] < 2018) | (df[\"Month\"] < 3) ].index, inplace = True)\n",
    "df=df.groupby([\"Year\", \"Month\"])[\"Year\"].count().reset_index(name=\"count\")"
   ]
  },
  {
   "cell_type": "code",
   "execution_count": null,
   "metadata": {},
   "outputs": [],
   "source": [
    "# Save a palette to a variable:\n",
    "palette = sns.color_palette(\"bright\")\n",
    " \n",
    "# Use palplot and pass in the variable:\n",
    "sns.palplot(palette)"
   ]
  },
  {
   "cell_type": "code",
   "execution_count": null,
   "metadata": {},
   "outputs": [],
   "source": [
    "\n",
    "ax = sns.lineplot(x=\"Month\", y=\"count\", hue=\"Year\",data=df, palette=sns.color_palette('bright', n_colors=3))\n",
    "# ax.text(x,y, df['count'])\n",
    "# label = '{.2f}'.format(df['count'])\n",
    "# plt.annotate(label,  (x,y))\n",
    "plt.suptitle('Number of Reviews in Boston and Cambridge')\n",
    "plt.xlim(3, 12)\n",
    "plt.savefig(\"Year on Year.png\")\n"
   ]
  },
  {
   "cell_type": "code",
   "execution_count": null,
   "metadata": {},
   "outputs": [],
   "source": [
    "#Find Unique properties ids number of comments per unique properties\n",
    "df_reviews=pd.merge(df,df.groupby(['Year','Month'],as_index=False).count(), on=['Year','Month'])\n"
   ]
  },
  {
   "cell_type": "code",
   "execution_count": null,
   "metadata": {},
   "outputs": [],
   "source": [
    "df_reviews"
   ]
  },
  {
   "cell_type": "code",
   "execution_count": null,
   "metadata": {},
   "outputs": [],
   "source": [
    "#PERCENT OF REVIEWS COLUMNS HAVE NAN\n",
    "(len(df_reviews)-df_reviews.count())/len(df_reviews))"
   ]
  },
  {
   "cell_type": "code",
   "execution_count": null,
   "metadata": {},
   "outputs": [],
   "source": [
    "#percentage OF NAs by feature\n",
    "(len(df_calendar)-df_calendar.count())/len(df_calendar)"
   ]
  },
  {
   "cell_type": "code",
   "execution_count": null,
   "metadata": {},
   "outputs": [],
   "source": [
    "#SET THE STYLE\n",
    "sns.set(style=\"darkgrid\")"
   ]
  },
  {
   "cell_type": "code",
   "execution_count": null,
   "metadata": {},
   "outputs": [],
   "source": [
    "\n",
    "ax3 = sns.catplot(x=\"Month\", y=\"adjusted_price\",hue=\"City\",kind='box',data=df_calendar,height=12, aspect=1, showfliers=False, palette=sns.color_palette(['purple', 'yellow']))\n",
    "#ax.legend(loc='upper right')\n",
    "ax3.fig.suptitle('Adjusted Price Per Month by City')\n",
    "#ax3.set_yscale(\"log\")\n",
    "#plt.yscale('log')\n",
    "plt.savefig('adjprice.jpg')\n"
   ]
  },
  {
   "cell_type": "code",
   "execution_count": null,
   "metadata": {},
   "outputs": [],
   "source": [
    "\n",
    "ax9 = sns.catplot(x=\"City\",y='price',hue='Month', kind='box',showfliers=False,data=df_listings)\n",
    "#ax.legend(loc='upper right')\n",
    "ax9.fig.suptitle('Listing Prices Box Plot')\n",
    "#plt.ylim(0, 30)\n",
    "plt.savefig('listingprices.jpg')"
   ]
  }
 ],
 "metadata": {
  "kernelspec": {
   "display_name": "Python 3",
   "language": "python",
   "name": "python3"
  },
  "language_info": {
   "codemirror_mode": {
    "name": "ipython",
    "version": 3
   },
   "file_extension": ".py",
   "mimetype": "text/x-python",
   "name": "python",
   "nbconvert_exporter": "python",
   "pygments_lexer": "ipython3",
   "version": "3.8.5"
  }
 },
 "nbformat": 4,
 "nbformat_minor": 2
}
